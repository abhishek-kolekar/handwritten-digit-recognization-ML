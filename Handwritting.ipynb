{
 "cells": [
  {
   "cell_type": "code",
   "execution_count": 2,
   "id": "31122e50",
   "metadata": {},
   "outputs": [],
   "source": [
    "import tensorflow as tf\n",
    "from tensorflow import keras\n",
    "from keras.datasets import mnist\n",
    "from tensorflow.keras.models import Sequential\n",
    "from keras.layers import Dense, Conv2D, Dropout, Flatten, MaxPooling2D\n",
    "from keras.utils import to_categorical\n",
    "import numpy\n",
    "import pandas as pd"
   ]
  },
  {
   "cell_type": "code",
   "execution_count": 3,
   "id": "c56b24df",
   "metadata": {},
   "outputs": [],
   "source": [
    "(X_train, y_train), (X_test, y_test) = mnist.load_data()"
   ]
  },
  {
   "cell_type": "code",
   "execution_count": 4,
   "id": "622344d2",
   "metadata": {},
   "outputs": [
    {
     "data": {
      "image/png": "[encoded data removed]",
      "text/plain": [
       "<Figure size 432x288 with 6 Axes>"
      ]
     },
     "metadata": {
      "needs_background": "light"
     },
     "output_type": "display_data"
    }
   ],
   "source": [
    "import matplotlib.pyplot as plt\n",
    "for i in range(6):\n",
    "    plt.subplot(int('23' + str(i+1)))\n",
    "    plt.imshow(X_train[i], cmap=plt.get_cmap('gray'))"
   ]
  },
  {
   "cell_type": "code",
   "execution_count": 5,
   "id": "47904a7e",
   "metadata": {},
   "outputs": [],
   "source": [
    "X_train = X_train.reshape(X_train.shape[0], 28, 28, 1).astype('float32')\n",
    "X_test = X_test.reshape(X_test.shape[0], 28, 28, 1).astype('float32')\n",
    "\n",
    "input_shape = (28, 28, 1)\n",
    "\n",
    "y_train = to_categorical(y_train)\n",
    "y_test = to_categorical(y_test)"
   ]
  },
  {
   "cell_type": "code",
   "execution_count": 6,
   "id": "6c031f1a",
   "metadata": {},
   "outputs": [],
   "source": [
    "X_train = X_train / 255\n",
    "X_test = X_test / 255"
   ]
  },
  {
   "cell_type": "code",
   "execution_count": 7,
   "id": "9732a896",
   "metadata": {},
   "outputs": [],
   "source": [
    "def create_model():\n",
    "    num_classes = 10\n",
    "    model = Sequential()\n",
    "    model.add(Conv2D(32, kernel_size=(3, 3),activation='relu',input_shape=input_shape))\n",
    "    model.add(Conv2D(64, (3, 3), activation='relu'))\n",
    "    model.add(MaxPooling2D(pool_size=(2, 2)))\n",
    "    model.add(Dropout(0.25))\n",
    "    model.add(Flatten())\n",
    "    model.add(Dense(256, activation='relu'))\n",
    "    model.add(Dropout(0.5))\n",
    "    model.add(Dense(num_classes, activation='softmax'))\n",
    "    model.compile(loss='categorical_crossentropy',optimizer='adam',metrics=['accuracy'])\n",
    "    return model\n",
    "\n",
    "model = create_model()"
   ]
  },
  {
   "cell_type": "code",
   "execution_count": 9,
   "id": "8df12426",
   "metadata": {
    "scrolled": true
   },
   "outputs": [
    {
     "name": "stdout",
     "output_type": "stream",
     "text": [
      "Epoch 1/10\n",
      "300/300 - 119s - loss: 0.0161 - accuracy: 0.9950 - val_loss: 0.0286 - val_accuracy: 0.9918\n",
      "Epoch 2/10\n",
      "300/300 - 83s - loss: 0.0161 - accuracy: 0.9946 - val_loss: 0.0314 - val_accuracy: 0.9914\n",
      "Epoch 3/10\n",
      "300/300 - 86s - loss: 0.0145 - accuracy: 0.9949 - val_loss: 0.0264 - val_accuracy: 0.9929\n",
      "Epoch 4/10\n",
      "300/300 - 82s - loss: 0.0125 - accuracy: 0.9960 - val_loss: 0.0280 - val_accuracy: 0.9922\n",
      "Epoch 5/10\n",
      "300/300 - 83s - loss: 0.0119 - accuracy: 0.9957 - val_loss: 0.0309 - val_accuracy: 0.9911\n",
      "Epoch 6/10\n",
      "300/300 - 89s - loss: 0.0129 - accuracy: 0.9957 - val_loss: 0.0273 - val_accuracy: 0.9926\n",
      "Epoch 7/10\n",
      "300/300 - 85s - loss: 0.0122 - accuracy: 0.9958 - val_loss: 0.0283 - val_accuracy: 0.9925\n",
      "Epoch 8/10\n",
      "300/300 - 85s - loss: 0.0111 - accuracy: 0.9966 - val_loss: 0.0275 - val_accuracy: 0.9930\n",
      "Epoch 9/10\n",
      "300/300 - 86s - loss: 0.0108 - accuracy: 0.9962 - val_loss: 0.0301 - val_accuracy: 0.9928\n",
      "Epoch 10/10\n",
      "300/300 - 84s - loss: 0.0098 - accuracy: 0.9967 - val_loss: 0.0284 - val_accuracy: 0.9924\n",
      "The model has successfully trained\n",
      "Saving the model as model.h5\n"
     ]
    }
   ],
   "source": [
    "model.fit(X_train, y_train,validation_data=(X_test, y_test), batch_size=200, epochs=10,verbose=2)\n",
    "print(\"The model has successfully trained\")\n",
    "\n",
    "model.save('model.h5')\n",
    "print(\"Saving the model as model.h5\")"
   ]
  },
  {
   "cell_type": "code",
   "execution_count": 10,
   "id": "68b6578b",
   "metadata": {},
   "outputs": [
    {
     "name": "stdout",
     "output_type": "stream",
     "text": [
      "CNN Error: 0.76%\n"
     ]
    }
   ],
   "source": [
    "scores = model.evaluate(X_test, y_test, verbose=0)\n",
    "print(\"CNN Error: %.2f%%\" % (100-scores[1]*100))"
   ]
  },
  {
   "cell_type": "code",
   "execution_count": null,
   "id": "4db2fb40",
   "metadata": {},
   "outputs": [],
   "source": []
  }
 ],
 "metadata": {
  "kernelspec": {
   "display_name": "Python 3 (ipykernel)",
   "language": "python",
   "name": "python3"
  },
  "language_info": {
   "codemirror_mode": {
    "name": "ipython",
    "version": 3
   },
   "file_extension": ".py",
   "mimetype": "text/x-python",
   "name": "python",
   "nbconvert_exporter": "python",
   "pygments_lexer": "ipython3",
   "version": "3.9.6"
  }
 },
 "nbformat": 4,
 "nbformat_minor": 5
}
